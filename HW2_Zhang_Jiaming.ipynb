{
 "cells": [
  {
   "cell_type": "markdown",
   "id": "1a35589a",
   "metadata": {},
   "source": [
    "Question 1"
   ]
  },
  {
   "cell_type": "code",
   "execution_count": 2,
   "id": "31536de7",
   "metadata": {},
   "outputs": [
    {
     "name": "stdout",
     "output_type": "stream",
     "text": [
      "0\n",
      "1\n",
      "2\n",
      "3\n",
      "4\n"
     ]
    }
   ],
   "source": [
    "n = 0\n",
    "while n < 10:\n",
    "    if n == 5:\n",
    "        break\n",
    "    print(n)\n",
    "    n += 1"
   ]
  },
  {
   "cell_type": "markdown",
   "id": "85f0878e",
   "metadata": {},
   "source": [
    "Question 2"
   ]
  },
  {
   "cell_type": "code",
   "execution_count": 6,
   "id": "9db4a2fc",
   "metadata": {},
   "outputs": [
    {
     "name": "stdout",
     "output_type": "stream",
     "text": [
      "0\n",
      "1\n",
      "2\n",
      "3\n",
      "4\n",
      "5 is not less than 5\n"
     ]
    }
   ],
   "source": [
    "n = 0\n",
    "while n < 5:\n",
    "    print(n)\n",
    "    n += 1\n",
    "if n >= 5:\n",
    "    print(n, \"is not less than 5\")\n"
   ]
  },
  {
   "cell_type": "markdown",
   "id": "9b163915",
   "metadata": {},
   "source": [
    "Question 3"
   ]
  },
  {
   "cell_type": "code",
   "execution_count": 9,
   "id": "dd902dfa",
   "metadata": {},
   "outputs": [
    {
     "name": "stdout",
     "output_type": "stream",
     "text": [
      "I like banana\n",
      "I like orange\n",
      "I like peach\n",
      "apple is really a fruit?\n"
     ]
    }
   ],
   "source": [
    "fruits = ['banana', 'orange', 'peach', 'apple', 'pear']\n",
    "for i in fruits:\n",
    "    if i == 'apple':\n",
    "        print(i, \"is really a fruit?\")\n",
    "        break\n",
    "    else:\n",
    "        print(\"I like\", i)\n",
    "    "
   ]
  },
  {
   "cell_type": "markdown",
   "id": "e321a262",
   "metadata": {},
   "source": [
    "Question 4"
   ]
  },
  {
   "cell_type": "code",
   "execution_count": 10,
   "id": "98cbb911",
   "metadata": {},
   "outputs": [
    {
     "name": "stdout",
     "output_type": "stream",
     "text": [
      "465\n"
     ]
    }
   ],
   "source": [
    "n = 0\n",
    "total = 0\n",
    "while n < 31:\n",
    "    total += n\n",
    "    n += 1\n",
    "print(total)"
   ]
  },
  {
   "cell_type": "markdown",
   "id": "5ff282c7",
   "metadata": {},
   "source": [
    "Question 5"
   ]
  },
  {
   "cell_type": "code",
   "execution_count": 11,
   "id": "fec62258",
   "metadata": {},
   "outputs": [
    {
     "name": "stdout",
     "output_type": "stream",
     "text": [
      "F\n"
     ]
    }
   ],
   "source": [
    "grade = 55\n",
    "\n",
    "if grade >= 90:\n",
    "    print(\"A\")\n",
    "elif grade >= 80:\n",
    "    print(\"B\")\n",
    "elif grade >= 70:\n",
    "    print(\"C\")\n",
    "elif grade >= 60:\n",
    "    print(\"D\")\n",
    "else:\n",
    "    print(\"F\")"
   ]
  },
  {
   "cell_type": "markdown",
   "id": "0d706e10",
   "metadata": {},
   "source": [
    "Question 6"
   ]
  },
  {
   "cell_type": "code",
   "execution_count": 14,
   "id": "c836496e",
   "metadata": {},
   "outputs": [],
   "source": [
    "marks = {'Andy':88, 'Amy':66, 'James': 90, 'Jules': 55, 'Arthur': 77}"
   ]
  },
  {
   "cell_type": "markdown",
   "id": "09d1c0ac",
   "metadata": {},
   "source": [
    "Question 6.1"
   ]
  },
  {
   "cell_type": "code",
   "execution_count": 15,
   "id": "e9802c8f",
   "metadata": {},
   "outputs": [
    {
     "name": "stdout",
     "output_type": "stream",
     "text": [
      "Andy 88\n",
      "Amy 66\n",
      "James 90\n",
      "Jules 55\n",
      "Arthur 77\n"
     ]
    }
   ],
   "source": [
    "for x in marks:\n",
    "    print(x, marks[x])"
   ]
  },
  {
   "cell_type": "markdown",
   "id": "1b59c44d",
   "metadata": {},
   "source": [
    "Question 6.2"
   ]
  },
  {
   "cell_type": "code",
   "execution_count": 24,
   "id": "00a289ac",
   "metadata": {},
   "outputs": [
    {
     "name": "stdout",
     "output_type": "stream",
     "text": [
      "Mean: 75.2\n",
      "Max: 90\n",
      "Min: 55\n"
     ]
    }
   ],
   "source": [
    "values = marks.values()\n",
    "sum = 0\n",
    "for y in values:\n",
    "    sum += y\n",
    "mean = sum/len(values)\n",
    "max_value = max(values)\n",
    "min_value = min(values)\n",
    "\n",
    "print(\"Mean:\", mean)\n",
    "print(\"Max:\", max_value)\n",
    "print(\"Min:\", min_value)"
   ]
  },
  {
   "cell_type": "markdown",
   "id": "d864a46d",
   "metadata": {},
   "source": [
    "Question 6.3"
   ]
  },
  {
   "cell_type": "code",
   "execution_count": 31,
   "id": "50a79457",
   "metadata": {},
   "outputs": [
    {
     "name": "stdout",
     "output_type": "stream",
     "text": [
      "Andy\n",
      "Amy\n"
     ]
    }
   ],
   "source": [
    "for n in marks:\n",
    "    J_break = False\n",
    "    for c in n:\n",
    "        if c == \"J\":\n",
    "            J_break = True\n",
    "            break\n",
    "    if J_break:\n",
    "        break\n",
    "    print(n)"
   ]
  },
  {
   "cell_type": "markdown",
   "id": "527fb23b",
   "metadata": {},
   "source": [
    "Question 6.4"
   ]
  },
  {
   "cell_type": "code",
   "execution_count": 32,
   "id": "3fe7bc51",
   "metadata": {},
   "outputs": [
    {
     "name": "stdout",
     "output_type": "stream",
     "text": [
      "Andy\n",
      "Amy\n",
      "Arthur\n"
     ]
    }
   ],
   "source": [
    "for n in marks:\n",
    "    J_break = False\n",
    "    for c in n:\n",
    "        if c == \"J\":\n",
    "            J_break = True\n",
    "            break\n",
    "    if J_break == False:\n",
    "        print(n)"
   ]
  }
 ],
 "metadata": {
  "kernelspec": {
   "display_name": "Python 3 (ipykernel)",
   "language": "python",
   "name": "python3"
  },
  "language_info": {
   "codemirror_mode": {
    "name": "ipython",
    "version": 3
   },
   "file_extension": ".py",
   "mimetype": "text/x-python",
   "name": "python",
   "nbconvert_exporter": "python",
   "pygments_lexer": "ipython3",
   "version": "3.9.7"
  }
 },
 "nbformat": 4,
 "nbformat_minor": 5
}
